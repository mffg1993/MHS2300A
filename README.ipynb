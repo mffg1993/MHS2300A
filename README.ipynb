{
 "cells": [
  {
   "cell_type": "markdown",
   "id": "e64035ce",
   "metadata": {},
   "source": [
    "# MHS2300A\n",
    "\n",
    "A simple Python module to control the inexpensive MHS2300A signal generator. \n",
    "\n",
    "\n",
    "## What is it for? \n",
    "\n",
    "Affordable signal generators have allowed to the maker community to build their own electrocnic laboratory. In particular, the MHS2300A represents an entry-level test and measurement equipment for electronic engineers, electronic laboratories, production lines and teaching and scientific research. The MHS2300A has two channels with multiple tunable parameters that can be changed using the built-in button functions but there is the possibility of controlling it from a computer using the right protocol. However, one compromise I have encountered is that we are limited to the GUI provided by the company. Here, I present a module to control this signal generator with Python. \n",
    "\n",
    "## Requirements\n",
    " \n",
    "- Pyserial and Cached_property packages need to be installed \n",
    "\n",
    "## Installation"
   ]
  },
  {
   "cell_type": "code",
   "execution_count": null,
   "id": "5e1af413",
   "metadata": {},
   "outputs": [],
   "source": [
    "pip install mhs2300a"
   ]
  },
  {
   "cell_type": "markdown",
   "id": "d8deacad",
   "metadata": {},
   "source": [
    "## Examples of usage\n",
    "\n",
    "First, we import the MHS2300 module"
   ]
  },
  {
   "cell_type": "code",
   "execution_count": null,
   "id": "306cf1c9",
   "metadata": {},
   "outputs": [],
   "source": [
    "from mhs2300a import MHS2300"
   ]
  },
  {
   "cell_type": "markdown",
   "id": "0ec1368a",
   "metadata": {},
   "source": [
    "Then, we create the object that handles the Signal Generator. For that, we need to specify the serial port we are going to use:\n",
    "- Windows: COM_ \n",
    "- Linux:  /dev/ttyUSB0"
   ]
  },
  {
   "cell_type": "code",
   "execution_count": null,
   "id": "273f9ca2",
   "metadata": {},
   "outputs": [],
   "source": [
    "port_name = \"COM3\" \n",
    "signal = MHS2300(port_name)"
   ]
  },
  {
   "cell_type": "markdown",
   "id": "967e81ab",
   "metadata": {},
   "source": [
    "By default, the signal generator enable both channels. We can enable or disable each channel independently using the built-in methods **on** or **off** and specifying the channel.  "
   ]
  },
  {
   "cell_type": "code",
   "execution_count": null,
   "id": "dbbbb5f0",
   "metadata": {},
   "outputs": [],
   "source": [
    "# Enables on channel 2 \n",
    "signal.on(2) \n",
    "\n",
    "\n",
    "# Disables channel 1 \n",
    "signal.off(1) "
   ]
  },
  {
   "cell_type": "markdown",
   "id": "3f83834c",
   "metadata": {},
   "source": [
    "Similarly, it is possible to modify each of the following parameters: \n",
    "\n",
    "- Amplitude \n",
    "- Frequency\n",
    "- Phase \n",
    "- Offset\n",
    "- Duty"
   ]
  },
  {
   "cell_type": "code",
   "execution_count": null,
   "id": "73ae019c",
   "metadata": {},
   "outputs": [],
   "source": [
    "# Sets the amplitude of the channel 2 to 5 Volts\n",
    "signal.Amplitude(2,5) \n",
    "\n",
    "# Sets the frequency of the channel 2 to 5 Hertz\n",
    "signal.Frequecy(2,5)\n",
    "\n",
    "# Sets the phase of the channel 2 to 10\n",
    "signal.Phase(2,10)\n",
    "\n",
    "# Sets the phase of the channel 1 to 5% \n",
    "signal.Offset(1,5)\n",
    "\n",
    "# Sets the phase of the channel 1 to 3\n",
    "signal.Duty(1,3)"
   ]
  },
  {
   "cell_type": "markdown",
   "id": "79652e73",
   "metadata": {},
   "source": [
    "and close the window once finished."
   ]
  }
 ],
 "metadata": {
  "kernelspec": {
   "display_name": "Python 3",
   "language": "python",
   "name": "python3"
  },
  "language_info": {
   "codemirror_mode": {
    "name": "ipython",
    "version": 3
   },
   "file_extension": ".py",
   "mimetype": "text/x-python",
   "name": "python",
   "nbconvert_exporter": "python",
   "pygments_lexer": "ipython3",
   "version": "3.8.8"
  }
 },
 "nbformat": 4,
 "nbformat_minor": 5
}
